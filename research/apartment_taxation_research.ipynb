{
 "cells": [
  {
   "cell_type": "code",
   "execution_count": 31,
   "metadata": {
    "collapsed": false
   },
   "outputs": [],
   "source": [
    "import numpy as np\n",
    "import csv\n",
    "import pandas as pd\n",
    "import os\n",
    "import sys\n",
    "import matplotlib.pyplot as plt\n",
    "from scipy import stats\n",
    "%matplotlib inline\n",
    "\n",
    "\n"
   ]
  },
  {
   "cell_type": "code",
   "execution_count": 2,
   "metadata": {
    "collapsed": false
   },
   "outputs": [
    {
     "data": {
      "text/plain": [
       "'C:\\\\Program Files\\\\Anaconda2'"
      ]
     },
     "execution_count": 2,
     "metadata": {},
     "output_type": "execute_result"
    }
   ],
   "source": [
    "os.path.dirname(sys.executable)\n"
   ]
  },
  {
   "cell_type": "markdown",
   "metadata": {},
   "source": [
    "Null Hypothesis: \n",
    "\n",
    "Alternate Hypothesis:\n"
   ]
  },
  {
   "cell_type": "code",
   "execution_count": 3,
   "metadata": {
    "collapsed": false
   },
   "outputs": [],
   "source": [
    "df = pd.read_csv('https://raw.githubusercontent.com/KDumanski/PUI2016_kpd286/master/extracredit_kpd286/avg_rents.csv')\n"
   ]
  },
  {
   "cell_type": "code",
   "execution_count": 4,
   "metadata": {
    "collapsed": false
   },
   "outputs": [
    {
     "data": {
      "text/html": [
       "<div>\n",
       "<table border=\"1\" class=\"dataframe\">\n",
       "  <thead>\n",
       "    <tr style=\"text-align: right;\">\n",
       "      <th></th>\n",
       "      <th>year</th>\n",
       "      <th>ALL UNITS</th>\n",
       "      <th>Owner Units</th>\n",
       "      <th>Renter Units</th>\n",
       "      <th>Stabilized</th>\n",
       "      <th>Median Household Income</th>\n",
       "      <th>Mean Household income</th>\n",
       "      <th>Mean Market rate rent</th>\n",
       "      <th>Mean rent stabilized rent</th>\n",
       "      <th>Monthly Property Taxes</th>\n",
       "      <th>Median Monthly Property Taxes</th>\n",
       "    </tr>\n",
       "  </thead>\n",
       "  <tbody>\n",
       "    <tr>\n",
       "      <th>0</th>\n",
       "      <td>2014.0</td>\n",
       "      <td>3,400,093</td>\n",
       "      <td>1,033,225</td>\n",
       "      <td>2,184,296</td>\n",
       "      <td>1,029,918</td>\n",
       "      <td>$86,586</td>\n",
       "      <td>$50,376</td>\n",
       "      <td>$1,446</td>\n",
       "      <td>$1,317</td>\n",
       "      <td>$405</td>\n",
       "      <td>$333</td>\n",
       "    </tr>\n",
       "    <tr>\n",
       "      <th>1</th>\n",
       "      <td>2011.0</td>\n",
       "      <td>3,352,041</td>\n",
       "      <td>1,014,941</td>\n",
       "      <td>2,172,634</td>\n",
       "      <td>986,840</td>\n",
       "      <td>$78,203</td>\n",
       "      <td>$48,000</td>\n",
       "      <td>$1,280</td>\n",
       "      <td>$1,137</td>\n",
       "      <td>$349</td>\n",
       "      <td>$292</td>\n",
       "    </tr>\n",
       "    <tr>\n",
       "      <th>2</th>\n",
       "      <td>2008.0</td>\n",
       "      <td>3,327,078</td>\n",
       "      <td>1,045,818</td>\n",
       "      <td>2,144,454</td>\n",
       "      <td>1,023,248</td>\n",
       "      <td>NaN</td>\n",
       "      <td>NaN</td>\n",
       "      <td>$1,119</td>\n",
       "      <td>$1,008</td>\n",
       "      <td>$268</td>\n",
       "      <td>$233</td>\n",
       "    </tr>\n",
       "    <tr>\n",
       "      <th>3</th>\n",
       "      <td>2005.0</td>\n",
       "      <td>3,260,855</td>\n",
       "      <td>1,031,780</td>\n",
       "      <td>2,092,363</td>\n",
       "      <td>1,043,677</td>\n",
       "      <td>NaN</td>\n",
       "      <td>NaN</td>\n",
       "      <td>$956</td>\n",
       "      <td>$908</td>\n",
       "      <td>$229</td>\n",
       "      <td>$183</td>\n",
       "    </tr>\n",
       "    <tr>\n",
       "      <th>4</th>\n",
       "      <td>2002.0</td>\n",
       "      <td>3,208,588</td>\n",
       "      <td>997,003</td>\n",
       "      <td>2,084,769</td>\n",
       "      <td>1,013,954</td>\n",
       "      <td>NaN</td>\n",
       "      <td>NaN</td>\n",
       "      <td>$832</td>\n",
       "      <td>$795</td>\n",
       "      <td>$159</td>\n",
       "      <td>$142</td>\n",
       "    </tr>\n",
       "  </tbody>\n",
       "</table>\n",
       "</div>"
      ],
      "text/plain": [
       "     year  ALL UNITS Owner Units Renter Units Stabilized  \\\n",
       "0  2014.0  3,400,093   1,033,225    2,184,296  1,029,918   \n",
       "1  2011.0  3,352,041   1,014,941    2,172,634    986,840   \n",
       "2  2008.0  3,327,078   1,045,818    2,144,454  1,023,248   \n",
       "3  2005.0  3,260,855   1,031,780    2,092,363  1,043,677   \n",
       "4  2002.0  3,208,588     997,003    2,084,769  1,013,954   \n",
       "\n",
       "  Median Household Income Mean Household income Mean Market rate rent  \\\n",
       "0                $86,586               $50,376                $1,446    \n",
       "1                $78,203               $48,000                $1,280    \n",
       "2                     NaN                   NaN               $1,119    \n",
       "3                     NaN                   NaN                 $956    \n",
       "4                     NaN                   NaN                 $832    \n",
       "\n",
       "  Mean rent stabilized rent Monthly Property Taxes  \\\n",
       "0                   $1,317                   $405    \n",
       "1                   $1,137                   $349    \n",
       "2                   $1,008                   $268    \n",
       "3                     $908                   $229    \n",
       "4                     $795                   $159    \n",
       "\n",
       "  Median Monthly Property Taxes  \n",
       "0                         $333   \n",
       "1                         $292   \n",
       "2                         $233   \n",
       "3                         $183   \n",
       "4                         $142   "
      ]
     },
     "execution_count": 4,
     "metadata": {},
     "output_type": "execute_result"
    }
   ],
   "source": [
    "df.head()"
   ]
  },
  {
   "cell_type": "code",
   "execution_count": 5,
   "metadata": {
    "collapsed": false
   },
   "outputs": [
    {
     "data": {
      "text/plain": [
       "Index([u'year', u'ALL UNITS', u'Owner Units', u'Renter Units', u'Stabilized',\n",
       "       u'Median Household Income', u'Mean Household income',\n",
       "       u'Mean Market rate rent', u'Mean rent stabilized rent',\n",
       "       u'Monthly Property Taxes', u'Median Monthly Property Taxes'],\n",
       "      dtype='object')"
      ]
     },
     "execution_count": 5,
     "metadata": {},
     "output_type": "execute_result"
    }
   ],
   "source": [
    "df.columns"
   ]
  },
  {
   "cell_type": "code",
   "execution_count": 6,
   "metadata": {
    "collapsed": false
   },
   "outputs": [],
   "source": [
    "df1 = df.apply(pd.to_numeric, errors='ignore')"
   ]
  },
  {
   "cell_type": "code",
   "execution_count": 7,
   "metadata": {
    "collapsed": true
   },
   "outputs": [],
   "source": [
    "df1 = df1.drop(['Mean Household income', 'Median Household Income'], axis=1)"
   ]
  },
  {
   "cell_type": "code",
   "execution_count": 8,
   "metadata": {
    "collapsed": false
   },
   "outputs": [
    {
     "data": {
      "text/html": [
       "<div>\n",
       "<table border=\"1\" class=\"dataframe\">\n",
       "  <thead>\n",
       "    <tr style=\"text-align: right;\">\n",
       "      <th></th>\n",
       "      <th>year</th>\n",
       "      <th>ALL UNITS</th>\n",
       "      <th>Owner Units</th>\n",
       "      <th>Renter Units</th>\n",
       "      <th>Stabilized</th>\n",
       "      <th>Mean Market rate rent</th>\n",
       "      <th>Mean rent stabilized rent</th>\n",
       "      <th>Monthly Property Taxes</th>\n",
       "      <th>Median Monthly Property Taxes</th>\n",
       "    </tr>\n",
       "  </thead>\n",
       "  <tbody>\n",
       "    <tr>\n",
       "      <th>0</th>\n",
       "      <td>2014.0</td>\n",
       "      <td>3,400,093</td>\n",
       "      <td>1,033,225</td>\n",
       "      <td>2,184,296</td>\n",
       "      <td>1,029,918</td>\n",
       "      <td>$1,446</td>\n",
       "      <td>$1,317</td>\n",
       "      <td>$405</td>\n",
       "      <td>$333</td>\n",
       "    </tr>\n",
       "    <tr>\n",
       "      <th>1</th>\n",
       "      <td>2011.0</td>\n",
       "      <td>3,352,041</td>\n",
       "      <td>1,014,941</td>\n",
       "      <td>2,172,634</td>\n",
       "      <td>986,840</td>\n",
       "      <td>$1,280</td>\n",
       "      <td>$1,137</td>\n",
       "      <td>$349</td>\n",
       "      <td>$292</td>\n",
       "    </tr>\n",
       "    <tr>\n",
       "      <th>2</th>\n",
       "      <td>2008.0</td>\n",
       "      <td>3,327,078</td>\n",
       "      <td>1,045,818</td>\n",
       "      <td>2,144,454</td>\n",
       "      <td>1,023,248</td>\n",
       "      <td>$1,119</td>\n",
       "      <td>$1,008</td>\n",
       "      <td>$268</td>\n",
       "      <td>$233</td>\n",
       "    </tr>\n",
       "    <tr>\n",
       "      <th>3</th>\n",
       "      <td>2005.0</td>\n",
       "      <td>3,260,855</td>\n",
       "      <td>1,031,780</td>\n",
       "      <td>2,092,363</td>\n",
       "      <td>1,043,677</td>\n",
       "      <td>$956</td>\n",
       "      <td>$908</td>\n",
       "      <td>$229</td>\n",
       "      <td>$183</td>\n",
       "    </tr>\n",
       "    <tr>\n",
       "      <th>4</th>\n",
       "      <td>2002.0</td>\n",
       "      <td>3,208,588</td>\n",
       "      <td>997,003</td>\n",
       "      <td>2,084,769</td>\n",
       "      <td>1,013,954</td>\n",
       "      <td>$832</td>\n",
       "      <td>$795</td>\n",
       "      <td>$159</td>\n",
       "      <td>$142</td>\n",
       "    </tr>\n",
       "  </tbody>\n",
       "</table>\n",
       "</div>"
      ],
      "text/plain": [
       "     year  ALL UNITS Owner Units Renter Units Stabilized  \\\n",
       "0  2014.0  3,400,093   1,033,225    2,184,296  1,029,918   \n",
       "1  2011.0  3,352,041   1,014,941    2,172,634    986,840   \n",
       "2  2008.0  3,327,078   1,045,818    2,144,454  1,023,248   \n",
       "3  2005.0  3,260,855   1,031,780    2,092,363  1,043,677   \n",
       "4  2002.0  3,208,588     997,003    2,084,769  1,013,954   \n",
       "\n",
       "  Mean Market rate rent Mean rent stabilized rent Monthly Property Taxes  \\\n",
       "0               $1,446                    $1,317                   $405    \n",
       "1               $1,280                    $1,137                   $349    \n",
       "2               $1,119                    $1,008                   $268    \n",
       "3                 $956                      $908                   $229    \n",
       "4                 $832                      $795                   $159    \n",
       "\n",
       "  Median Monthly Property Taxes  \n",
       "0                         $333   \n",
       "1                         $292   \n",
       "2                         $233   \n",
       "3                         $183   \n",
       "4                         $142   "
      ]
     },
     "execution_count": 8,
     "metadata": {},
     "output_type": "execute_result"
    }
   ],
   "source": [
    "df1.head()"
   ]
  },
  {
   "cell_type": "code",
   "execution_count": 9,
   "metadata": {
    "collapsed": true
   },
   "outputs": [],
   "source": [
    "df1['Monthly Property Taxes'] = df1['Monthly Property Taxes'].replace( '[\\$,)]','', regex=True)\n",
    "df1['Mean Market rate rent'] = df1['Mean Market rate rent'].replace( '[\\$,)]','', regex=True)\n",
    "df1['Mean rent stabilized rent'] = df1['Mean rent stabilized rent'].replace( '[\\$,)]','', regex=True)"
   ]
  },
  {
   "cell_type": "code",
   "execution_count": 10,
   "metadata": {
    "collapsed": false
   },
   "outputs": [
    {
     "data": {
      "text/plain": [
       "0    405 \n",
       "1    349 \n",
       "2    268 \n",
       "3    229 \n",
       "4    159 \n",
       "5    146 \n",
       "6    136 \n",
       "7    136 \n",
       "8     NaN\n",
       "Name: Monthly Property Taxes, dtype: object"
      ]
     },
     "execution_count": 10,
     "metadata": {},
     "output_type": "execute_result"
    }
   ],
   "source": [
    "df1['Monthly Property Taxes']\n"
   ]
  },
  {
   "cell_type": "code",
   "execution_count": 11,
   "metadata": {
    "collapsed": false
   },
   "outputs": [
    {
     "data": {
      "text/plain": [
       "0    1446 \n",
       "1    1280 \n",
       "2    1119 \n",
       "3     956 \n",
       "4     832 \n",
       "5     727 \n",
       "6     645 \n",
       "7     564 \n",
       "8      NaN\n",
       "Name: Mean Market rate rent, dtype: object"
      ]
     },
     "execution_count": 11,
     "metadata": {},
     "output_type": "execute_result"
    }
   ],
   "source": [
    "df1['Mean Market rate rent']"
   ]
  },
  {
   "cell_type": "markdown",
   "metadata": {},
   "source": [
    "df1['Monthly Property Taxes'] = df1['Monthly Property Taxes'].apply(pd.to_numeric, errors='coerce')\n",
    "df1['Mean Market rate rent'] = df1"
   ]
  },
  {
   "cell_type": "code",
   "execution_count": 12,
   "metadata": {
    "collapsed": true
   },
   "outputs": [],
   "source": [
    "df1['Monthly Property Taxes'] = df1['Monthly Property Taxes'].apply(pd.to_numeric, errors='coerce')\n",
    "df1['Mean Market rate rent'] = df1['Mean Market rate rent'].apply(pd.to_numeric, errors='coerce')\n",
    "df1['Mean rent stabilized rent'] = df1['Mean rent stabilized rent'].apply(pd.to_numeric, errors='coerce')\n"
   ]
  },
  {
   "cell_type": "code",
   "execution_count": 13,
   "metadata": {
    "collapsed": false
   },
   "outputs": [
    {
     "data": {
      "text/plain": [
       "0    405.0\n",
       "1    349.0\n",
       "2    268.0\n",
       "3    229.0\n",
       "4    159.0\n",
       "5    146.0\n",
       "6    136.0\n",
       "7    136.0\n",
       "8      NaN\n",
       "Name: Monthly Property Taxes, dtype: float64"
      ]
     },
     "execution_count": 13,
     "metadata": {},
     "output_type": "execute_result"
    }
   ],
   "source": [
    "df1['Monthly Property Taxes']"
   ]
  },
  {
   "cell_type": "code",
   "execution_count": 14,
   "metadata": {
    "collapsed": false,
    "scrolled": true
   },
   "outputs": [
    {
     "data": {
      "text/plain": [
       "0    2014.0\n",
       "1    2011.0\n",
       "2    2008.0\n",
       "3    2005.0\n",
       "4    2002.0\n",
       "5    1999.0\n",
       "6    1996.0\n",
       "7    1993.0\n",
       "8       NaN\n",
       "Name: year, dtype: float64"
      ]
     },
     "execution_count": 14,
     "metadata": {},
     "output_type": "execute_result"
    }
   ],
   "source": [
    "df1['year']"
   ]
  },
  {
   "cell_type": "code",
   "execution_count": 15,
   "metadata": {
    "collapsed": false
   },
   "outputs": [
    {
     "data": {
      "text/plain": [
       "0    1446.0\n",
       "1    1280.0\n",
       "2    1119.0\n",
       "3     956.0\n",
       "4     832.0\n",
       "5     727.0\n",
       "6     645.0\n",
       "7     564.0\n",
       "8       NaN\n",
       "Name: Mean Market rate rent, dtype: float64"
      ]
     },
     "execution_count": 15,
     "metadata": {},
     "output_type": "execute_result"
    }
   ],
   "source": [
    "df1['Mean Market rate rent']"
   ]
  },
  {
   "cell_type": "code",
   "execution_count": 16,
   "metadata": {
    "collapsed": false
   },
   "outputs": [],
   "source": [
    "year = df1['year']\n",
    "mpt = df1['Monthly Property Taxes']\n",
    "mmrr = df1['Mean Market rate rent']\n",
    "mrsr = df1['Mean rent stabilized rent']"
   ]
  },
  {
   "cell_type": "code",
   "execution_count": 17,
   "metadata": {
    "collapsed": false
   },
   "outputs": [
    {
     "data": {
      "text/plain": [
       "<function matplotlib.pyplot.plot>"
      ]
     },
     "execution_count": 17,
     "metadata": {},
     "output_type": "execute_result"
    },
    {
     "data": {
      "image/png": "[encoded data removed]",
      "text/plain": [
       "<matplotlib.figure.Figure at 0x99c0d68>"
      ]
     },
     "metadata": {},
     "output_type": "display_data"
    }
   ],
   "source": [
    "plt.plot(year, mpt, label = \"Average monthly property tax per rental unit\", color=\"green\")\n",
    "plt.plot(year, mmrr, color=\"brown\")\n",
    "plt.plot(year, mrsr, label=\"Mean stabilized rent\", color=\"blue\")\n",
    "plt.xlabel (\"Year\")\n",
    "plt.ylabel(\"Average $\")\n",
    "plt.legend(bbox_to_anchor=(1.05, 1), loc=2, borderaxespad=0.)\n",
    "plt.plot"
   ]
  },
  {
   "cell_type": "code",
   "execution_count": 18,
   "metadata": {
    "collapsed": false
   },
   "outputs": [
    {
     "data": {
      "text/html": [
       "<div>\n",
       "<table border=\"1\" class=\"dataframe\">\n",
       "  <thead>\n",
       "    <tr style=\"text-align: right;\">\n",
       "      <th></th>\n",
       "      <th>year</th>\n",
       "      <th>ALL UNITS</th>\n",
       "      <th>Owner Units</th>\n",
       "      <th>Renter Units</th>\n",
       "      <th>Stabilized</th>\n",
       "      <th>Mean Market rate rent</th>\n",
       "      <th>Mean rent stabilized rent</th>\n",
       "      <th>Monthly Property Taxes</th>\n",
       "      <th>Median Monthly Property Taxes</th>\n",
       "    </tr>\n",
       "  </thead>\n",
       "  <tbody>\n",
       "    <tr>\n",
       "      <th>0</th>\n",
       "      <td>2014.0</td>\n",
       "      <td>3,400,093</td>\n",
       "      <td>1,033,225</td>\n",
       "      <td>2,184,296</td>\n",
       "      <td>1,029,918</td>\n",
       "      <td>1446.0</td>\n",
       "      <td>1317.0</td>\n",
       "      <td>405.0</td>\n",
       "      <td>$333</td>\n",
       "    </tr>\n",
       "    <tr>\n",
       "      <th>1</th>\n",
       "      <td>2011.0</td>\n",
       "      <td>3,352,041</td>\n",
       "      <td>1,014,941</td>\n",
       "      <td>2,172,634</td>\n",
       "      <td>986,840</td>\n",
       "      <td>1280.0</td>\n",
       "      <td>1137.0</td>\n",
       "      <td>349.0</td>\n",
       "      <td>$292</td>\n",
       "    </tr>\n",
       "    <tr>\n",
       "      <th>2</th>\n",
       "      <td>2008.0</td>\n",
       "      <td>3,327,078</td>\n",
       "      <td>1,045,818</td>\n",
       "      <td>2,144,454</td>\n",
       "      <td>1,023,248</td>\n",
       "      <td>1119.0</td>\n",
       "      <td>1008.0</td>\n",
       "      <td>268.0</td>\n",
       "      <td>$233</td>\n",
       "    </tr>\n",
       "    <tr>\n",
       "      <th>3</th>\n",
       "      <td>2005.0</td>\n",
       "      <td>3,260,855</td>\n",
       "      <td>1,031,780</td>\n",
       "      <td>2,092,363</td>\n",
       "      <td>1,043,677</td>\n",
       "      <td>956.0</td>\n",
       "      <td>908.0</td>\n",
       "      <td>229.0</td>\n",
       "      <td>$183</td>\n",
       "    </tr>\n",
       "    <tr>\n",
       "      <th>4</th>\n",
       "      <td>2002.0</td>\n",
       "      <td>3,208,588</td>\n",
       "      <td>997,003</td>\n",
       "      <td>2,084,769</td>\n",
       "      <td>1,013,954</td>\n",
       "      <td>832.0</td>\n",
       "      <td>795.0</td>\n",
       "      <td>159.0</td>\n",
       "      <td>$142</td>\n",
       "    </tr>\n",
       "  </tbody>\n",
       "</table>\n",
       "</div>"
      ],
      "text/plain": [
       "     year  ALL UNITS Owner Units Renter Units Stabilized  \\\n",
       "0  2014.0  3,400,093   1,033,225    2,184,296  1,029,918   \n",
       "1  2011.0  3,352,041   1,014,941    2,172,634    986,840   \n",
       "2  2008.0  3,327,078   1,045,818    2,144,454  1,023,248   \n",
       "3  2005.0  3,260,855   1,031,780    2,092,363  1,043,677   \n",
       "4  2002.0  3,208,588     997,003    2,084,769  1,013,954   \n",
       "\n",
       "   Mean Market rate rent  Mean rent stabilized rent  Monthly Property Taxes  \\\n",
       "0                 1446.0                     1317.0                   405.0   \n",
       "1                 1280.0                     1137.0                   349.0   \n",
       "2                 1119.0                     1008.0                   268.0   \n",
       "3                  956.0                      908.0                   229.0   \n",
       "4                  832.0                      795.0                   159.0   \n",
       "\n",
       "  Median Monthly Property Taxes  \n",
       "0                         $333   \n",
       "1                         $292   \n",
       "2                         $233   \n",
       "3                         $183   \n",
       "4                         $142   "
      ]
     },
     "execution_count": 18,
     "metadata": {},
     "output_type": "execute_result"
    }
   ],
   "source": [
    "df1.head()"
   ]
  },
  {
   "cell_type": "code",
   "execution_count": 19,
   "metadata": {
    "collapsed": false
   },
   "outputs": [],
   "source": [
    "df1['Percentage_mrkt'] = (df1['Monthly Property Taxes'] / df1['Mean Market rate rent'])\n",
    "df1['Percentage_stbl'] = (df1['Monthly Property Taxes'] / df1['Mean rent stabilized rent'])\n"
   ]
  },
  {
   "cell_type": "code",
   "execution_count": 20,
   "metadata": {
    "collapsed": false
   },
   "outputs": [
    {
     "data": {
      "text/plain": [
       "<function matplotlib.pyplot.plot>"
      ]
     },
     "execution_count": 20,
     "metadata": {},
     "output_type": "execute_result"
    },
    {
     "data": {
      "image/png": "[encoded data removed]",
      "text/plain": [
       "<matplotlib.figure.Figure at 0x98a6d30>"
      ]
     },
     "metadata": {},
     "output_type": "display_data"
    }
   ],
   "source": [
    "plt.plot(year, df1['Percentage_stbl'], label = \"Stabilized\", color=\"purple\")\n",
    "plt.plot(year, df1['Percentage_mrkt'], label = \"Market Rate\", color=\"orange\")\n",
    "plt.xlabel (\"Year\")\n",
    "plt.ylabel(\"% of rent to property taxes\")\n",
    "plt.legend(bbox_to_anchor=(1.05, 1), loc=2, borderaxespad=0.)\n",
    "plt.plot"
   ]
  },
  {
   "cell_type": "code",
   "execution_count": 21,
   "metadata": {
    "collapsed": false
   },
   "outputs": [],
   "source": [
    "rent_control_data = pd.read_csv('https://raw.githubusercontent.com/KDumanski/PUI2016_kpd286/master/extracredit_kpd286/ACS%20Rent%20Burden%20Data.csv')"
   ]
  },
  {
   "cell_type": "code",
   "execution_count": 22,
   "metadata": {
    "collapsed": false
   },
   "outputs": [
    {
     "data": {
      "text/html": [
       "<div>\n",
       "<table border=\"1\" class=\"dataframe\">\n",
       "  <thead>\n",
       "    <tr style=\"text-align: right;\">\n",
       "      <th></th>\n",
       "      <th>Year</th>\n",
       "      <th>At least 30% of income spent on rent</th>\n",
       "      <th>At least 35% of income spent on rent</th>\n",
       "      <th>At least 40% of income spent on rent</th>\n",
       "      <th>At least 50% of income spent on rent</th>\n",
       "    </tr>\n",
       "  </thead>\n",
       "  <tbody>\n",
       "    <tr>\n",
       "      <th>0</th>\n",
       "      <td>2005</td>\n",
       "      <td>51.735001</td>\n",
       "      <td>42.742936</td>\n",
       "      <td>36.239344</td>\n",
       "      <td>27.906787</td>\n",
       "    </tr>\n",
       "    <tr>\n",
       "      <th>1</th>\n",
       "      <td>2006</td>\n",
       "      <td>50.876707</td>\n",
       "      <td>41.896940</td>\n",
       "      <td>35.941762</td>\n",
       "      <td>27.928954</td>\n",
       "    </tr>\n",
       "    <tr>\n",
       "      <th>2</th>\n",
       "      <td>2007</td>\n",
       "      <td>49.775832</td>\n",
       "      <td>41.048068</td>\n",
       "      <td>34.888998</td>\n",
       "      <td>26.608945</td>\n",
       "    </tr>\n",
       "    <tr>\n",
       "      <th>3</th>\n",
       "      <td>2008</td>\n",
       "      <td>50.136925</td>\n",
       "      <td>41.415085</td>\n",
       "      <td>35.128213</td>\n",
       "      <td>26.923715</td>\n",
       "    </tr>\n",
       "    <tr>\n",
       "      <th>4</th>\n",
       "      <td>2009</td>\n",
       "      <td>51.048535</td>\n",
       "      <td>42.239029</td>\n",
       "      <td>35.965139</td>\n",
       "      <td>27.547013</td>\n",
       "    </tr>\n",
       "  </tbody>\n",
       "</table>\n",
       "</div>"
      ],
      "text/plain": [
       "   Year  At least 30% of income spent on rent  \\\n",
       "0  2005                             51.735001   \n",
       "1  2006                             50.876707   \n",
       "2  2007                             49.775832   \n",
       "3  2008                             50.136925   \n",
       "4  2009                             51.048535   \n",
       "\n",
       "   At least 35% of income spent on rent  At least 40% of income spent on rent  \\\n",
       "0                             42.742936                             36.239344   \n",
       "1                             41.896940                             35.941762   \n",
       "2                             41.048068                             34.888998   \n",
       "3                             41.415085                             35.128213   \n",
       "4                             42.239029                             35.965139   \n",
       "\n",
       "   At least 50% of income spent on rent  \n",
       "0                             27.906787  \n",
       "1                             27.928954  \n",
       "2                             26.608945  \n",
       "3                             26.923715  \n",
       "4                             27.547013  "
      ]
     },
     "execution_count": 22,
     "metadata": {},
     "output_type": "execute_result"
    }
   ],
   "source": [
    "rent_control_data.head()"
   ]
  },
  {
   "cell_type": "code",
   "execution_count": 23,
   "metadata": {
    "collapsed": false
   },
   "outputs": [
    {
     "data": {
      "text/plain": [
       "Index([u'Year', u'At least 30% of income spent on rent',\n",
       "       u'At least 35% of income spent on rent',\n",
       "       u'At least 40% of income spent on rent',\n",
       "       u'At least 50% of income spent on rent'],\n",
       "      dtype='object')"
      ]
     },
     "execution_count": 23,
     "metadata": {},
     "output_type": "execute_result"
    }
   ],
   "source": [
    "rent_control_data.columns"
   ]
  },
  {
   "cell_type": "code",
   "execution_count": null,
   "metadata": {
    "collapsed": false
   },
   "outputs": [],
   "source": []
  },
  {
   "cell_type": "code",
   "execution_count": 24,
   "metadata": {
    "collapsed": false
   },
   "outputs": [],
   "source": [
    "rent_control_data['Year'] = year2 = rent_control_data['Year'].apply(pd.to_numeric, errors='coerce')\n",
    "rent_control_data['At least 30% of income spent on rent'] = rent_control_data['At least 30% of income spent on rent'].apply(pd.to_numeric, errors='coerce')\n",
    "rent_control_data['At least 35% of income spent on rent'] = rent_control_data['At least 35% of income spent on rent'].apply(pd.to_numeric, errors='coerce')\n",
    "rent_control_data['At least 50% of income spent on rent'] = rent_control_data['At least 50% of income spent on rent'].apply(pd.to_numeric, errors='coerce')\n"
   ]
  },
  {
   "cell_type": "code",
   "execution_count": 25,
   "metadata": {
    "collapsed": false
   },
   "outputs": [],
   "source": [
    "year2 = rent_control_data['Year']\n",
    "thirtyfive = rent_control_data['At least 30% of income spent on rent']\n",
    "forty = rent_control_data['At least 35% of income spent on rent']\n",
    "fortyfive = rent_control_data['At least 50% of income spent on rent']"
   ]
  },
  {
   "cell_type": "code",
   "execution_count": null,
   "metadata": {
    "collapsed": true
   },
   "outputs": [],
   "source": []
  },
  {
   "cell_type": "code",
   "execution_count": null,
   "metadata": {
    "collapsed": false
   },
   "outputs": [],
   "source": []
  },
  {
   "cell_type": "code",
   "execution_count": null,
   "metadata": {
    "collapsed": false
   },
   "outputs": [],
   "source": []
  },
  {
   "cell_type": "code",
   "execution_count": null,
   "metadata": {
    "collapsed": false
   },
   "outputs": [],
   "source": []
  },
  {
   "cell_type": "code",
   "execution_count": null,
   "metadata": {
    "collapsed": false
   },
   "outputs": [],
   "source": []
  },
  {
   "cell_type": "code",
   "execution_count": null,
   "metadata": {
    "collapsed": false
   },
   "outputs": [],
   "source": []
  },
  {
   "cell_type": "code",
   "execution_count": null,
   "metadata": {
    "collapsed": false
   },
   "outputs": [],
   "source": []
  },
  {
   "cell_type": "code",
   "execution_count": 26,
   "metadata": {
    "collapsed": false
   },
   "outputs": [
    {
     "data": {
      "text/html": [
       "<div>\n",
       "<table border=\"1\" class=\"dataframe\">\n",
       "  <thead>\n",
       "    <tr style=\"text-align: right;\">\n",
       "      <th></th>\n",
       "      <th>Year</th>\n",
       "      <th>At least 30% of income spent on rent</th>\n",
       "      <th>At least 35% of income spent on rent</th>\n",
       "      <th>At least 40% of income spent on rent</th>\n",
       "      <th>At least 50% of income spent on rent</th>\n",
       "    </tr>\n",
       "  </thead>\n",
       "  <tbody>\n",
       "    <tr>\n",
       "      <th>0</th>\n",
       "      <td>2005</td>\n",
       "      <td>51.735001</td>\n",
       "      <td>42.742936</td>\n",
       "      <td>36.239344</td>\n",
       "      <td>27.906787</td>\n",
       "    </tr>\n",
       "    <tr>\n",
       "      <th>1</th>\n",
       "      <td>2006</td>\n",
       "      <td>50.876707</td>\n",
       "      <td>41.896940</td>\n",
       "      <td>35.941762</td>\n",
       "      <td>27.928954</td>\n",
       "    </tr>\n",
       "    <tr>\n",
       "      <th>2</th>\n",
       "      <td>2007</td>\n",
       "      <td>49.775832</td>\n",
       "      <td>41.048068</td>\n",
       "      <td>34.888998</td>\n",
       "      <td>26.608945</td>\n",
       "    </tr>\n",
       "    <tr>\n",
       "      <th>3</th>\n",
       "      <td>2008</td>\n",
       "      <td>50.136925</td>\n",
       "      <td>41.415085</td>\n",
       "      <td>35.128213</td>\n",
       "      <td>26.923715</td>\n",
       "    </tr>\n",
       "    <tr>\n",
       "      <th>4</th>\n",
       "      <td>2009</td>\n",
       "      <td>51.048535</td>\n",
       "      <td>42.239029</td>\n",
       "      <td>35.965139</td>\n",
       "      <td>27.547013</td>\n",
       "    </tr>\n",
       "  </tbody>\n",
       "</table>\n",
       "</div>"
      ],
      "text/plain": [
       "   Year  At least 30% of income spent on rent  \\\n",
       "0  2005                             51.735001   \n",
       "1  2006                             50.876707   \n",
       "2  2007                             49.775832   \n",
       "3  2008                             50.136925   \n",
       "4  2009                             51.048535   \n",
       "\n",
       "   At least 35% of income spent on rent  At least 40% of income spent on rent  \\\n",
       "0                             42.742936                             36.239344   \n",
       "1                             41.896940                             35.941762   \n",
       "2                             41.048068                             34.888998   \n",
       "3                             41.415085                             35.128213   \n",
       "4                             42.239029                             35.965139   \n",
       "\n",
       "   At least 50% of income spent on rent  \n",
       "0                             27.906787  \n",
       "1                             27.928954  \n",
       "2                             26.608945  \n",
       "3                             26.923715  \n",
       "4                             27.547013  "
      ]
     },
     "execution_count": 26,
     "metadata": {},
     "output_type": "execute_result"
    }
   ],
   "source": [
    "rent_control_data.head()"
   ]
  },
  {
   "cell_type": "code",
   "execution_count": null,
   "metadata": {
    "collapsed": false
   },
   "outputs": [],
   "source": []
  },
  {
   "cell_type": "code",
   "execution_count": null,
   "metadata": {
    "collapsed": false
   },
   "outputs": [],
   "source": []
  },
  {
   "cell_type": "code",
   "execution_count": 30,
   "metadata": {
    "collapsed": false
   },
   "outputs": [
    {
     "data": {
      "image/png": "[encoded data removed]",
      "text/plain": [
       "<matplotlib.figure.Figure at 0xa4dd0f0>"
      ]
     },
     "metadata": {},
     "output_type": "display_data"
    }
   ],
   "source": [
    "fig, ax1 = plt.subplots()\n",
    "\n",
    "\n",
    "ax1.plot(year, mpt, label = \"Average monthly property tax per rental unit\", color=\"green\")\n",
    "ax1.plot(year, mmrr, color=\"brown\")\n",
    "ax1.plot(year, mrsr, label=\"Mean stabilized rent\", color=\"blue\")\n",
    "\n",
    "ax1.set_xlabel('time (s)')\n",
    "\n",
    "ax1.set_ylabel('mean dollar amount', color='b')\n",
    "for tl in ax1.get_yticklabels():\n",
    "    tl.set_color('b')\n",
    "\n",
    "ax2 = ax1.twinx()\n",
    "ax2.plot(year2, thirtyfive, label = 'percent of New Yorkers paying 35% or more on property taxes', color=\"purple\")\n",
    "ax2.plot(year2, forty, label = 'percent of New Yorkers paying 40% or more on property taxes',color=\"red\")\n",
    "ax2.plot(year2, fortyfive, label = 'percent of New Yorkers paying 45% or more on property taxes', color=\"orange\")\n",
    "ax2.set_ylabel('Percentage of New Yorkers Rent Burdened', color='r')\n",
    "\n",
    "for tl in ax2.get_yticklabels():\n",
    "    tl.set_color('r')\n",
    "    \n",
    "    \n",
    "plt.show()\n",
    "\n",
    "\n",
    "\n"
   ]
  },
  {
   "cell_type": "code",
   "execution_count": 43,
   "metadata": {
    "collapsed": false
   },
   "outputs": [],
   "source": [
    "# make the arrays the same length witht he data we have.  I plotted \n",
    "mpt\n",
    "mpt2 = [146.0, 159.0, 229.0, 268.0, 349.0, 405.0]"
   ]
  },
  {
   "cell_type": "code",
   "execution_count": 44,
   "metadata": {
    "collapsed": false
   },
   "outputs": [],
   "source": [
    "thirtyfive\n",
    "thirtyfive2 = [51.048535, 53.530466, 54.490633, 54.056600, 53.981799, 55.127531]"
   ]
  },
  {
   "cell_type": "code",
   "execution_count": null,
   "metadata": {
    "collapsed": false
   },
   "outputs": [],
   "source": []
  },
  {
   "cell_type": "code",
   "execution_count": null,
   "metadata": {
    "collapsed": true
   },
   "outputs": [],
   "source": []
  },
  {
   "cell_type": "code",
   "execution_count": 51,
   "metadata": {
    "collapsed": false
   },
   "outputs": [
    {
     "data": {
      "text/plain": [
       "(0.72926199595580854, 0.10002617872430214)"
      ]
     },
     "execution_count": 51,
     "metadata": {},
     "output_type": "execute_result"
    }
   ],
   "source": [
    "stats.pearsonr(mpt2, thirtyfive2)"
   ]
  },
  {
   "cell_type": "code",
   "execution_count": 46,
   "metadata": {
    "collapsed": false
   },
   "outputs": [
    {
     "data": {
      "text/plain": [
       "SpearmanrResult(correlation=0.77142857142857146, pvalue=0.072396501457725942)"
      ]
     },
     "execution_count": 46,
     "metadata": {},
     "output_type": "execute_result"
    }
   ],
   "source": [
    "stats.spearmanr(mpt2, thirtyfive2, axis=0)"
   ]
  },
  {
   "cell_type": "code",
   "execution_count": null,
   "metadata": {
    "collapsed": true
   },
   "outputs": [],
   "source": []
  }
 ],
 "metadata": {
  "anaconda-cloud": {},
  "kernelspec": {
   "display_name": "Python [conda root]",
   "language": "python",
   "name": "conda-root-py"
  },
  "language_info": {
   "codemirror_mode": {
    "name": "ipython",
    "version": 2
   },
   "file_extension": ".py",
   "mimetype": "text/x-python",
   "name": "python",
   "nbconvert_exporter": "python",
   "pygments_lexer": "ipython2",
   "version": "2.7.12"
  }
 },
 "nbformat": 4,
 "nbformat_minor": 1
}
