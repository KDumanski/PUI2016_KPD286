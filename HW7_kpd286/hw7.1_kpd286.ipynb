{
 "cells": [
  {
   "cell_type": "code",
   "execution_count": 154,
   "metadata": {
    "collapsed": false
   },
   "outputs": [],
   "source": [
    "import numpy as np\n",
    "import csv\n",
    "import pandas as pd\n",
    "import os\n",
    "import sys\n",
    "import matplotlib.pyplot as plt\n",
    "%matplotlib inline\n"
   ]
  },
  {
   "cell_type": "code",
   "execution_count": 155,
   "metadata": {
    "collapsed": false
   },
   "outputs": [
    {
     "data": {
      "text/plain": [
       "'C:\\\\Program Files\\\\Anaconda2'"
      ]
     },
     "execution_count": 155,
     "metadata": {},
     "output_type": "execute_result"
    }
   ],
   "source": [
    "os.path.dirname(sys.executable)"
   ]
  },
  {
   "cell_type": "code",
   "execution_count": 156,
   "metadata": {
    "collapsed": false
   },
   "outputs": [],
   "source": [
    "df = pd.read_csv('C:\\\\Program Files\\\\Anaconda2\\\\avg_rents.csv')\n",
    "#data is extracted from "
   ]
  },
  {
   "cell_type": "code",
   "execution_count": 157,
   "metadata": {
    "collapsed": false
   },
   "outputs": [
    {
     "data": {
      "text/html": [
       "<div>\n",
       "<table border=\"1\" class=\"dataframe\">\n",
       "  <thead>\n",
       "    <tr style=\"text-align: right;\">\n",
       "      <th></th>\n",
       "      <th>year</th>\n",
       "      <th>ALL UNITS</th>\n",
       "      <th>Owner Units</th>\n",
       "      <th>Renter Units</th>\n",
       "      <th>Stabilized</th>\n",
       "      <th>Median Household Income</th>\n",
       "      <th>Mean Household income</th>\n",
       "      <th>Mean Market rate rent</th>\n",
       "      <th>Mean rent stabilized rent</th>\n",
       "      <th>Monthly Property Taxes</th>\n",
       "      <th>Median Monthly Property Taxes</th>\n",
       "    </tr>\n",
       "  </thead>\n",
       "  <tbody>\n",
       "    <tr>\n",
       "      <th>0</th>\n",
       "      <td>2014.0</td>\n",
       "      <td>3,400,093</td>\n",
       "      <td>1,033,225</td>\n",
       "      <td>2,184,296</td>\n",
       "      <td>1,029,918</td>\n",
       "      <td>$86,586</td>\n",
       "      <td>$50,376</td>\n",
       "      <td>$1,446</td>\n",
       "      <td>$1,317</td>\n",
       "      <td>$405</td>\n",
       "      <td>$333</td>\n",
       "    </tr>\n",
       "    <tr>\n",
       "      <th>1</th>\n",
       "      <td>2011.0</td>\n",
       "      <td>3,352,041</td>\n",
       "      <td>1,014,941</td>\n",
       "      <td>2,172,634</td>\n",
       "      <td>986,840</td>\n",
       "      <td>$78,203</td>\n",
       "      <td>$48,000</td>\n",
       "      <td>$1,280</td>\n",
       "      <td>$1,137</td>\n",
       "      <td>$349</td>\n",
       "      <td>$292</td>\n",
       "    </tr>\n",
       "    <tr>\n",
       "      <th>2</th>\n",
       "      <td>2008.0</td>\n",
       "      <td>3,327,078</td>\n",
       "      <td>1,045,818</td>\n",
       "      <td>2,144,454</td>\n",
       "      <td>1,023,248</td>\n",
       "      <td>NaN</td>\n",
       "      <td>NaN</td>\n",
       "      <td>$1,119</td>\n",
       "      <td>$1,008</td>\n",
       "      <td>$268</td>\n",
       "      <td>$233</td>\n",
       "    </tr>\n",
       "    <tr>\n",
       "      <th>3</th>\n",
       "      <td>2005.0</td>\n",
       "      <td>3,260,855</td>\n",
       "      <td>1,031,780</td>\n",
       "      <td>2,092,363</td>\n",
       "      <td>1,043,677</td>\n",
       "      <td>NaN</td>\n",
       "      <td>NaN</td>\n",
       "      <td>$956</td>\n",
       "      <td>$908</td>\n",
       "      <td>$229</td>\n",
       "      <td>$183</td>\n",
       "    </tr>\n",
       "    <tr>\n",
       "      <th>4</th>\n",
       "      <td>2002.0</td>\n",
       "      <td>3,208,588</td>\n",
       "      <td>997,003</td>\n",
       "      <td>2,084,769</td>\n",
       "      <td>1,013,954</td>\n",
       "      <td>NaN</td>\n",
       "      <td>NaN</td>\n",
       "      <td>$832</td>\n",
       "      <td>$795</td>\n",
       "      <td>$159</td>\n",
       "      <td>$142</td>\n",
       "    </tr>\n",
       "  </tbody>\n",
       "</table>\n",
       "</div>"
      ],
      "text/plain": [
       "     year  ALL UNITS Owner Units Renter Units Stabilized  \\\n",
       "0  2014.0  3,400,093   1,033,225    2,184,296  1,029,918   \n",
       "1  2011.0  3,352,041   1,014,941    2,172,634    986,840   \n",
       "2  2008.0  3,327,078   1,045,818    2,144,454  1,023,248   \n",
       "3  2005.0  3,260,855   1,031,780    2,092,363  1,043,677   \n",
       "4  2002.0  3,208,588     997,003    2,084,769  1,013,954   \n",
       "\n",
       "  Median Household Income Mean Household income Mean Market rate rent  \\\n",
       "0                $86,586               $50,376                $1,446    \n",
       "1                $78,203               $48,000                $1,280    \n",
       "2                     NaN                   NaN               $1,119    \n",
       "3                     NaN                   NaN                 $956    \n",
       "4                     NaN                   NaN                 $832    \n",
       "\n",
       "  Mean rent stabilized rent Monthly Property Taxes  \\\n",
       "0                   $1,317                   $405    \n",
       "1                   $1,137                   $349    \n",
       "2                   $1,008                   $268    \n",
       "3                     $908                   $229    \n",
       "4                     $795                   $159    \n",
       "\n",
       "  Median Monthly Property Taxes  \n",
       "0                         $333   \n",
       "1                         $292   \n",
       "2                         $233   \n",
       "3                         $183   \n",
       "4                         $142   "
      ]
     },
     "execution_count": 157,
     "metadata": {},
     "output_type": "execute_result"
    }
   ],
   "source": [
    "df.head()"
   ]
  },
  {
   "cell_type": "code",
   "execution_count": 158,
   "metadata": {
    "collapsed": false
   },
   "outputs": [
    {
     "data": {
      "text/plain": [
       "Index([u'year', u'ALL UNITS', u'Owner Units', u'Renter Units', u'Stabilized',\n",
       "       u'Median Household Income', u'Mean Household income',\n",
       "       u'Mean Market rate rent', u'Mean rent stabilized rent',\n",
       "       u'Monthly Property Taxes', u'Median Monthly Property Taxes'],\n",
       "      dtype='object')"
      ]
     },
     "execution_count": 158,
     "metadata": {},
     "output_type": "execute_result"
    }
   ],
   "source": [
    "df.columns"
   ]
  },
  {
   "cell_type": "code",
   "execution_count": 159,
   "metadata": {
    "collapsed": false
   },
   "outputs": [],
   "source": [
    "df1 = df.apply(pd.to_numeric, errors='ignore')"
   ]
  },
  {
   "cell_type": "code",
   "execution_count": 160,
   "metadata": {
    "collapsed": true
   },
   "outputs": [],
   "source": [
    "df1 = df1.drop(['Mean Household income', 'Median Household Income'], axis=1)"
   ]
  },
  {
   "cell_type": "code",
   "execution_count": 163,
   "metadata": {
    "collapsed": false
   },
   "outputs": [
    {
     "data": {
      "text/html": [
       "<div>\n",
       "<table border=\"1\" class=\"dataframe\">\n",
       "  <thead>\n",
       "    <tr style=\"text-align: right;\">\n",
       "      <th></th>\n",
       "      <th>year</th>\n",
       "      <th>ALL UNITS</th>\n",
       "      <th>Owner Units</th>\n",
       "      <th>Renter Units</th>\n",
       "      <th>Stabilized</th>\n",
       "      <th>Mean Market rate rent</th>\n",
       "      <th>Mean rent stabilized rent</th>\n",
       "      <th>Monthly Property Taxes</th>\n",
       "      <th>Median Monthly Property Taxes</th>\n",
       "    </tr>\n",
       "  </thead>\n",
       "  <tbody>\n",
       "    <tr>\n",
       "      <th>0</th>\n",
       "      <td>2014.0</td>\n",
       "      <td>3,400,093</td>\n",
       "      <td>1,033,225</td>\n",
       "      <td>2,184,296</td>\n",
       "      <td>1,029,918</td>\n",
       "      <td>1446</td>\n",
       "      <td>1317</td>\n",
       "      <td>405</td>\n",
       "      <td>$333</td>\n",
       "    </tr>\n",
       "    <tr>\n",
       "      <th>1</th>\n",
       "      <td>2011.0</td>\n",
       "      <td>3,352,041</td>\n",
       "      <td>1,014,941</td>\n",
       "      <td>2,172,634</td>\n",
       "      <td>986,840</td>\n",
       "      <td>1280</td>\n",
       "      <td>1137</td>\n",
       "      <td>349</td>\n",
       "      <td>$292</td>\n",
       "    </tr>\n",
       "    <tr>\n",
       "      <th>2</th>\n",
       "      <td>2008.0</td>\n",
       "      <td>3,327,078</td>\n",
       "      <td>1,045,818</td>\n",
       "      <td>2,144,454</td>\n",
       "      <td>1,023,248</td>\n",
       "      <td>1119</td>\n",
       "      <td>1008</td>\n",
       "      <td>268</td>\n",
       "      <td>$233</td>\n",
       "    </tr>\n",
       "    <tr>\n",
       "      <th>3</th>\n",
       "      <td>2005.0</td>\n",
       "      <td>3,260,855</td>\n",
       "      <td>1,031,780</td>\n",
       "      <td>2,092,363</td>\n",
       "      <td>1,043,677</td>\n",
       "      <td>956</td>\n",
       "      <td>908</td>\n",
       "      <td>229</td>\n",
       "      <td>$183</td>\n",
       "    </tr>\n",
       "    <tr>\n",
       "      <th>4</th>\n",
       "      <td>2002.0</td>\n",
       "      <td>3,208,588</td>\n",
       "      <td>997,003</td>\n",
       "      <td>2,084,769</td>\n",
       "      <td>1,013,954</td>\n",
       "      <td>832</td>\n",
       "      <td>795</td>\n",
       "      <td>159</td>\n",
       "      <td>$142</td>\n",
       "    </tr>\n",
       "  </tbody>\n",
       "</table>\n",
       "</div>"
      ],
      "text/plain": [
       "     year  ALL UNITS Owner Units Renter Units Stabilized  \\\n",
       "0  2014.0  3,400,093   1,033,225    2,184,296  1,029,918   \n",
       "1  2011.0  3,352,041   1,014,941    2,172,634    986,840   \n",
       "2  2008.0  3,327,078   1,045,818    2,144,454  1,023,248   \n",
       "3  2005.0  3,260,855   1,031,780    2,092,363  1,043,677   \n",
       "4  2002.0  3,208,588     997,003    2,084,769  1,013,954   \n",
       "\n",
       "  Mean Market rate rent Mean rent stabilized rent Monthly Property Taxes  \\\n",
       "0                 1446                      1317                    405    \n",
       "1                 1280                      1137                    349    \n",
       "2                 1119                      1008                    268    \n",
       "3                  956                       908                    229    \n",
       "4                  832                       795                    159    \n",
       "\n",
       "  Median Monthly Property Taxes  \n",
       "0                         $333   \n",
       "1                         $292   \n",
       "2                         $233   \n",
       "3                         $183   \n",
       "4                         $142   "
      ]
     },
     "execution_count": 163,
     "metadata": {},
     "output_type": "execute_result"
    }
   ],
   "source": [
    "df1.head()"
   ]
  },
  {
   "cell_type": "code",
   "execution_count": 165,
   "metadata": {
    "collapsed": true
   },
   "outputs": [],
   "source": [
    "df1['Monthly Property Taxes'] = df1['Monthly Property Taxes'].replace( '[\\$,)]','', regex=True)\n",
    "df1['Mean Market rate rent'] = df1['Mean Market rate rent'].replace( '[\\$,)]','', regex=True)\n",
    "df1['Mean rent stabilized rent'] = df1['Mean rent stabilized rent'].replace( '[\\$,)]','', regex=True)"
   ]
  },
  {
   "cell_type": "code",
   "execution_count": 166,
   "metadata": {
    "collapsed": false
   },
   "outputs": [
    {
     "data": {
      "text/plain": [
       "0    405 \n",
       "1    349 \n",
       "2    268 \n",
       "3    229 \n",
       "4    159 \n",
       "5    146 \n",
       "6    136 \n",
       "7    136 \n",
       "8     NaN\n",
       "Name: Monthly Property Taxes, dtype: object"
      ]
     },
     "execution_count": 166,
     "metadata": {},
     "output_type": "execute_result"
    }
   ],
   "source": [
    "df1['Monthly Property Taxes']\n"
   ]
  },
  {
   "cell_type": "code",
   "execution_count": 167,
   "metadata": {
    "collapsed": false
   },
   "outputs": [
    {
     "data": {
      "text/plain": [
       "0    1446 \n",
       "1    1280 \n",
       "2    1119 \n",
       "3     956 \n",
       "4     832 \n",
       "5     727 \n",
       "6     645 \n",
       "7     564 \n",
       "8      NaN\n",
       "Name: Mean Market rate rent, dtype: object"
      ]
     },
     "execution_count": 167,
     "metadata": {},
     "output_type": "execute_result"
    }
   ],
   "source": [
    "df1['Mean Market rate rent']"
   ]
  },
  {
   "cell_type": "markdown",
   "metadata": {},
   "source": [
    "df1['Monthly Property Taxes'] = df1['Monthly Property Taxes'].apply(pd.to_numeric, errors='coerce')\n",
    "df1['Mean Market rate rent'] = df1"
   ]
  },
  {
   "cell_type": "code",
   "execution_count": 168,
   "metadata": {
    "collapsed": true
   },
   "outputs": [],
   "source": [
    "df1['Monthly Property Taxes'] = df1['Monthly Property Taxes'].apply(pd.to_numeric, errors='coerce')\n",
    "df1['Mean Market rate rent'] = df1['Mean Market rate rent'].apply(pd.to_numeric, errors='coerce')\n",
    "df1['Mean rent stabilized rent'] = df1['Mean rent stabilized rent'].apply(pd.to_numeric, errors='coerce')\n"
   ]
  },
  {
   "cell_type": "code",
   "execution_count": 169,
   "metadata": {
    "collapsed": false
   },
   "outputs": [
    {
     "data": {
      "text/plain": [
       "0    405.0\n",
       "1    349.0\n",
       "2    268.0\n",
       "3    229.0\n",
       "4    159.0\n",
       "5    146.0\n",
       "6    136.0\n",
       "7    136.0\n",
       "8      NaN\n",
       "Name: Monthly Property Taxes, dtype: float64"
      ]
     },
     "execution_count": 169,
     "metadata": {},
     "output_type": "execute_result"
    }
   ],
   "source": [
    "df1['Monthly Property Taxes']"
   ]
  },
  {
   "cell_type": "code",
   "execution_count": 170,
   "metadata": {
    "collapsed": false,
    "scrolled": true
   },
   "outputs": [
    {
     "data": {
      "text/plain": [
       "0    2014.0\n",
       "1    2011.0\n",
       "2    2008.0\n",
       "3    2005.0\n",
       "4    2002.0\n",
       "5    1999.0\n",
       "6    1996.0\n",
       "7    1993.0\n",
       "8       NaN\n",
       "Name: year, dtype: float64"
      ]
     },
     "execution_count": 170,
     "metadata": {},
     "output_type": "execute_result"
    }
   ],
   "source": [
    "df1['year']"
   ]
  },
  {
   "cell_type": "code",
   "execution_count": 171,
   "metadata": {
    "collapsed": false
   },
   "outputs": [
    {
     "data": {
      "text/plain": [
       "0    1446.0\n",
       "1    1280.0\n",
       "2    1119.0\n",
       "3     956.0\n",
       "4     832.0\n",
       "5     727.0\n",
       "6     645.0\n",
       "7     564.0\n",
       "8       NaN\n",
       "Name: Mean Market rate rent, dtype: float64"
      ]
     },
     "execution_count": 171,
     "metadata": {},
     "output_type": "execute_result"
    }
   ],
   "source": [
    "df1['Mean Market rate rent']"
   ]
  },
  {
   "cell_type": "code",
   "execution_count": 172,
   "metadata": {
    "collapsed": false
   },
   "outputs": [],
   "source": [
    "year = df1['year']\n",
    "mpt = df1['Monthly Property Taxes']\n",
    "mmrr = df1['Mean Market rate rent']\n",
    "mrsr = df1['Mean rent stabilized rent']"
   ]
  },
  {
   "cell_type": "code",
   "execution_count": 173,
   "metadata": {
    "collapsed": false
   },
   "outputs": [
    {
     "data": {
      "text/plain": [
       "<function matplotlib.pyplot.plot>"
      ]
     },
     "execution_count": 173,
     "metadata": {},
     "output_type": "execute_result"
    },
    {
     "data": {
      "image/png": "[encoded data removed]",
      "text/plain": [
       "<matplotlib.figure.Figure at 0xb91b550>"
      ]
     },
     "metadata": {},
     "output_type": "display_data"
    }
   ],
   "source": [
    "plt.plot(year, mpt, label = \"Average monthly property tax per rental unit\", color=\"green\")\n",
    "plt.plot(year, mmrr, color=\"red\")\n",
    "plt.plot(year, mrsr, label=\"Mean stabilized rent\", color=\"blue\")\n",
    "plt.xlabel (\"Year\")\n",
    "plt.ylabel(\"Average $\")\n",
    "plt.legend(bbox_to_anchor=(1.05, 1), loc=2, borderaxespad=0.)\n",
    "plt.plot"
   ]
  },
  {
   "cell_type": "code",
   "execution_count": 174,
   "metadata": {
    "collapsed": false
   },
   "outputs": [
    {
     "data": {
      "text/html": [
       "<div>\n",
       "<table border=\"1\" class=\"dataframe\">\n",
       "  <thead>\n",
       "    <tr style=\"text-align: right;\">\n",
       "      <th></th>\n",
       "      <th>year</th>\n",
       "      <th>ALL UNITS</th>\n",
       "      <th>Owner Units</th>\n",
       "      <th>Renter Units</th>\n",
       "      <th>Stabilized</th>\n",
       "      <th>Mean Market rate rent</th>\n",
       "      <th>Mean rent stabilized rent</th>\n",
       "      <th>Monthly Property Taxes</th>\n",
       "      <th>Median Monthly Property Taxes</th>\n",
       "    </tr>\n",
       "  </thead>\n",
       "  <tbody>\n",
       "    <tr>\n",
       "      <th>0</th>\n",
       "      <td>2014.0</td>\n",
       "      <td>3,400,093</td>\n",
       "      <td>1,033,225</td>\n",
       "      <td>2,184,296</td>\n",
       "      <td>1,029,918</td>\n",
       "      <td>1446.0</td>\n",
       "      <td>1317.0</td>\n",
       "      <td>405.0</td>\n",
       "      <td>$333</td>\n",
       "    </tr>\n",
       "    <tr>\n",
       "      <th>1</th>\n",
       "      <td>2011.0</td>\n",
       "      <td>3,352,041</td>\n",
       "      <td>1,014,941</td>\n",
       "      <td>2,172,634</td>\n",
       "      <td>986,840</td>\n",
       "      <td>1280.0</td>\n",
       "      <td>1137.0</td>\n",
       "      <td>349.0</td>\n",
       "      <td>$292</td>\n",
       "    </tr>\n",
       "    <tr>\n",
       "      <th>2</th>\n",
       "      <td>2008.0</td>\n",
       "      <td>3,327,078</td>\n",
       "      <td>1,045,818</td>\n",
       "      <td>2,144,454</td>\n",
       "      <td>1,023,248</td>\n",
       "      <td>1119.0</td>\n",
       "      <td>1008.0</td>\n",
       "      <td>268.0</td>\n",
       "      <td>$233</td>\n",
       "    </tr>\n",
       "    <tr>\n",
       "      <th>3</th>\n",
       "      <td>2005.0</td>\n",
       "      <td>3,260,855</td>\n",
       "      <td>1,031,780</td>\n",
       "      <td>2,092,363</td>\n",
       "      <td>1,043,677</td>\n",
       "      <td>956.0</td>\n",
       "      <td>908.0</td>\n",
       "      <td>229.0</td>\n",
       "      <td>$183</td>\n",
       "    </tr>\n",
       "    <tr>\n",
       "      <th>4</th>\n",
       "      <td>2002.0</td>\n",
       "      <td>3,208,588</td>\n",
       "      <td>997,003</td>\n",
       "      <td>2,084,769</td>\n",
       "      <td>1,013,954</td>\n",
       "      <td>832.0</td>\n",
       "      <td>795.0</td>\n",
       "      <td>159.0</td>\n",
       "      <td>$142</td>\n",
       "    </tr>\n",
       "  </tbody>\n",
       "</table>\n",
       "</div>"
      ],
      "text/plain": [
       "     year  ALL UNITS Owner Units Renter Units Stabilized  \\\n",
       "0  2014.0  3,400,093   1,033,225    2,184,296  1,029,918   \n",
       "1  2011.0  3,352,041   1,014,941    2,172,634    986,840   \n",
       "2  2008.0  3,327,078   1,045,818    2,144,454  1,023,248   \n",
       "3  2005.0  3,260,855   1,031,780    2,092,363  1,043,677   \n",
       "4  2002.0  3,208,588     997,003    2,084,769  1,013,954   \n",
       "\n",
       "   Mean Market rate rent  Mean rent stabilized rent  Monthly Property Taxes  \\\n",
       "0                 1446.0                     1317.0                   405.0   \n",
       "1                 1280.0                     1137.0                   349.0   \n",
       "2                 1119.0                     1008.0                   268.0   \n",
       "3                  956.0                      908.0                   229.0   \n",
       "4                  832.0                      795.0                   159.0   \n",
       "\n",
       "  Median Monthly Property Taxes  \n",
       "0                         $333   \n",
       "1                         $292   \n",
       "2                         $233   \n",
       "3                         $183   \n",
       "4                         $142   "
      ]
     },
     "execution_count": 174,
     "metadata": {},
     "output_type": "execute_result"
    }
   ],
   "source": [
    "df1.head()"
   ]
  },
  {
   "cell_type": "code",
   "execution_count": 180,
   "metadata": {
    "collapsed": false
   },
   "outputs": [],
   "source": [
    "df1['Percentage_mrkt'] = (df1['Monthly Property Taxes'] / df1['Mean Market rate rent'])\n",
    "df1['Percentage_stbl'] = (df1['Monthly Property Taxes'] / df1['Mean rent stabilized rent'])\n"
   ]
  },
  {
   "cell_type": "code",
   "execution_count": 185,
   "metadata": {
    "collapsed": false
   },
   "outputs": [
    {
     "data": {
      "text/plain": [
       "<function matplotlib.pyplot.plot>"
      ]
     },
     "execution_count": 185,
     "metadata": {},
     "output_type": "execute_result"
    },
    {
     "data": {
      "image/png": "[encoded data removed]",
      "text/plain": [
       "<matplotlib.figure.Figure at 0xb4dc5c0>"
      ]
     },
     "metadata": {},
     "output_type": "display_data"
    }
   ],
   "source": [
    "plt.plot(year, df1['Percentage_stbl'], label = \"Stabilized\", color=\"purple\")\n",
    "plt.plot(year, df1['Percentage_mrkt'], label = \"Market Rate\", color=\"orange\")\n",
    "plt.xlabel (\"Year\")\n",
    "plt.ylabel(\"% of rent to property taxes\")\n",
    "plt.legend(bbox_to_anchor=(1.05, 1), loc=2, borderaxespad=0.)\n",
    "plt.plot"
   ]
  },
  {
   "cell_type": "code",
   "execution_count": null,
   "metadata": {
    "collapsed": true
   },
   "outputs": [],
   "source": []
  }
 ],
 "metadata": {
  "anaconda-cloud": {},
  "kernelspec": {
   "display_name": "Python [conda root]",
   "language": "python",
   "name": "conda-root-py"
  },
  "language_info": {
   "codemirror_mode": {
    "name": "ipython",
    "version": 2
   },
   "file_extension": ".py",
   "mimetype": "text/x-python",
   "name": "python",
   "nbconvert_exporter": "python",
   "pygments_lexer": "ipython2",
   "version": "2.7.12"
  }
 },
 "nbformat": 4,
 "nbformat_minor": 1
}
